{
 "cells": [
  {
   "cell_type": "markdown",
   "id": "bbf5ed7f",
   "metadata": {
    "lines_to_next_cell": 0
   },
   "source": [
    "# CUDDY System Analysis\n",
    "\n",
    "## Consistency"
   ]
  },
  {
   "cell_type": "code",
   "execution_count": null,
   "id": "5da40dee",
   "metadata": {
    "lines_to_next_cell": 0
   },
   "outputs": [],
   "source": [
    "import pandas as pd"
   ]
  },
  {
   "cell_type": "code",
   "execution_count": null,
   "id": "45fe7c1b",
   "metadata": {},
   "outputs": [],
   "source": [
    "pd.read_csv('data/Player.2024.csv')"
   ]
  }
 ],
 "metadata": {
  "kernelspec": {
   "display_name": "Python 3",
   "language": "python",
   "name": "python3"
  },
  "language_info": {
   "codemirror_mode": {
    "name": "ipython"
   },
   "file_extension": ".py",
   "mimetype": "text/x-python",
   "name": "python",
   "nbconvert_exporter": "python",
   "pygments_lexer": "ipython3"
  }
 },
 "nbformat": 4,
 "nbformat_minor": 5
}
