{
 "cells": [
  {
   "cell_type": "code",
   "execution_count": null,
   "id": "91e990f3",
   "metadata": {
    "lines_to_next_cell": 0
   },
   "outputs": [],
   "source": [
    "import requests\n",
    "import pandas as pd\n",
    "import json\n",
    "import configparser"
   ]
  },
  {
   "cell_type": "code",
   "execution_count": null,
   "id": "263f3fc5",
   "metadata": {
    "lines_to_next_cell": 0
   },
   "outputs": [],
   "source": [
    "config = configparser.ConfigParser()\n",
    "config.read('sports-research.cfg')\n",
    "api_key = config['Football']['sportsdataio']"
   ]
  },
  {
   "cell_type": "code",
   "execution_count": null,
   "id": "7a5ba70e",
   "metadata": {
    "lines_to_next_cell": 0
   },
   "outputs": [],
   "source": [
    "endpoint = \"https://api.sportsdata.io/api/nfl/fantasy/json/PlayerSeasonStats/2024\"\n",
    "\n",
    "headers = {\n",
    "    'Ocp-Apim-Subscription-Key': api_key\n",
    "}\n",
    "\n",
    "response = requests.get(endpoint, headers=headers)\n",
    "data = response.json()\n",
    "\n",
    "with open('./football/data/2024/PlayerSeasonStatsRaw.json', 'w+') as f:\n",
    "    json.dump(data, f)"
   ]
  },
  {
   "cell_type": "code",
   "execution_count": null,
   "id": "38376fd5",
   "metadata": {
    "lines_to_next_cell": 0
   },
   "outputs": [],
   "source": [
    "df = pd.read_json('./football/data/2024/PlayerSeasonStatsRaw.json')\n",
    "df.columns "
   ]
  },
  {
   "cell_type": "code",
   "execution_count": null,
   "id": "a0c6b37a",
   "metadata": {
    "lines_to_next_cell": 0
   },
   "outputs": [],
   "source": [
    "identity_cols = ['PlayerID', 'SeasonType', 'Season', 'Team', 'Number', 'Name', 'Position', 'PositionCategory']\n",
    "passing_cols = ['PassingYards', 'PassingTouchdowns', 'TwoPointConversionPasses', 'PassingInterceptions']\n",
    "rushing_cols = ['RushingYards', 'RushingTouchdowns', 'TwoPointConversionRuns']\n",
    "receiving_cols = ['Receptions', 'ReceivingYards', 'ReceivingTouchdowns', 'TwoPointConversionReceptions']\n",
    "misc_cols = ['Fumbles', 'FumbleReturnTouchdowns']\n",
    "\n",
    "points_df = df[identity_cols + passing_cols + rushing_cols + receiving_cols + misc_cols]\n",
    "\n",
    "def applyPoints(df, pointmap):\n",
    "    total_points = 0\n",
    "    for key, value in pointmap.items():\n",
    "        if key not in df.columns:\n",
    "            raise ValueError(f\"Key {key} not in columns list\")\n",
    "        total_points += df[key] * value\n",
    "    return total_points\n",
    "\n",
    "point_map = {\n",
    "    'PassingYards': 0.05,\n",
    "    'PassingTouchdowns': 4,\n",
    "    'TwoPointConversionPasses': 2,\n",
    "    'PassingInterceptions': -1,\n",
    "    'RushingYards': 0.1,\n",
    "    'RushingTouchdowns': 6,\n",
    "    'TwoPointConversionRuns': 2,\n",
    "    'Receptions': 0.5,\n",
    "    'ReceivingYards': 0.1,\n",
    "    'ReceivingTouchdowns': 6,\n",
    "    'TwoPointConversionReceptions': 2,\n",
    "    'Fumbles': -2,\n",
    "    'FumbleReturnTouchdowns': 6\n",
    "}\n",
    "\n",
    "points_df['Points'] = applyPoints(points_df, point_map)\n",
    "points_df.sort_values(by='Points', ascending=False)\n",
    "\n",
    "points_df.to_csv('football/data/2024/SeasonFantasyPoints.csv')"
   ]
  },
  {
   "cell_type": "code",
   "execution_count": null,
   "id": "c8ba54ea",
   "metadata": {
    "lines_to_next_cell": 0
   },
   "outputs": [],
   "source": [
    "endpoint = \"https://api.sportsdata.io/api/nfl/fantasy/json/PlayerGameStatsByWeek/2024REG/1\"\n",
    "\n",
    "res = requests.get(endpoint, headers=headers)\n",
    "data = res.json()\n",
    "\n",
    "with open('football/data/2024/SeasonWeek1StatsRaw.json', 'w+') as f:\n",
    "    f.write(json.dumps(data))\n",
    "    "
   ]
  },
  {
   "cell_type": "code",
   "execution_count": null,
   "id": "fb19ea8a",
   "metadata": {
    "lines_to_next_cell": 0
   },
   "outputs": [],
   "source": [
    "df = pd.read_json('football/data/2024/SeasonWeek1StatsRaw.json')\n",
    "df.columns\n",
    "\n",
    "week_identity_cols = identity_cols + ['GameKey', 'Week', 'Opponent', 'HomeOrAway']\n",
    "week_points_df = df[week_identity_cols + passing_cols + rushing_cols + receiving_cols + misc_cols]\n",
    "week_points_df['Points'] = applyPoints(week_points_df, point_map)\n",
    "week_points_df.sort_values(by='Points', ascending=False)\n",
    "week_points_df.to_csv('football/data/2024/SeasonWeek1FantasyPoints.csv')"
   ]
  },
  {
   "cell_type": "code",
   "execution_count": null,
   "id": "0463bfed",
   "metadata": {
    "lines_to_next_cell": 0
   },
   "outputs": [],
   "source": [
    "parent_df = df\n",
    "for i in range(2, 18):\n",
    "    endpoint = f\"https://api.sportsdata.io/api/nfl/fantasy/json/PlayerGameStatsByWeek/2024REG/{i}\"\n",
    "    res = requests.get(endpoint, headers=headers)\n",
    "    data = res.json()\n",
    "    \n",
    "    with open(f'football/data/2024/SeasonWeek{i}StatsRaw.json', 'w+') as f:\n",
    "        f.write(json.dumps(data))\n",
    "\n",
    "    df = pd.read_json(f'football/data/2024/SeasonWeek{i}StatsRaw.json')\n",
    "    week_points_df = df[week_identity_cols + passing_cols + rushing_cols + receiving_cols + misc_cols]\n",
    "    week_points_df['Points'] = applyPoints(week_points_df, point_map)\n",
    "    week_points_df.to_csv(f'football/data/2024/SeasonWeek{i}FantasyPoints.csv')\n",
    "    parent_df = pd.concat([parent_df, df])"
   ]
  },
  {
   "cell_type": "code",
   "execution_count": null,
   "id": "4a95fb21",
   "metadata": {
    "lines_to_next_cell": 0
   },
   "outputs": [],
   "source": [
    "parent_df.to_csv('football/data/2024/SeasonAllWeeksFantasyPoints.csv')"
   ]
  },
  {
   "cell_type": "markdown",
   "id": "8d857381",
   "metadata": {},
   "source": []
  }
 ],
 "metadata": {
  "kernelspec": {
   "display_name": "Python 3",
   "language": "python",
   "name": "python3"
  },
  "language_info": {
   "codemirror_mode": {
    "name": "ipython"
   },
   "file_extension": ".py",
   "mimetype": "text/x-python",
   "name": "python",
   "nbconvert_exporter": "python",
   "pygments_lexer": "ipython3"
  }
 },
 "nbformat": 4,
 "nbformat_minor": 5
}
