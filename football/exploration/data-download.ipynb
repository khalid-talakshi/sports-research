{
 "cells": [
  {
   "cell_type": "code",
   "execution_count": null,
   "id": "91e990f3",
   "metadata": {
    "lines_to_next_cell": 0
   },
   "outputs": [],
   "source": [
    "import requests\n",
    "import pandas as pd\n",
    "import json\n",
    "import configparser"
   ]
  },
  {
   "cell_type": "code",
   "execution_count": null,
   "id": "263f3fc5",
   "metadata": {
    "lines_to_next_cell": 0
   },
   "outputs": [],
   "source": [
    "config = configparser.ConfigParser()\n",
    "config.read('sports-research.cfg')\n",
    "api_key = config['Football']['sportsdataio']"
   ]
  },
  {
   "cell_type": "code",
   "execution_count": null,
   "id": "7a5ba70e",
   "metadata": {
    "lines_to_next_cell": 0
   },
   "outputs": [],
   "source": [
    "endpoint = \"https://api.sportsdata.io/api/nfl/fantasy/json/PlayerSeasonStats/2024\"\n",
    "\n",
    "headers = {\n",
    "    'Ocp-Apim-Subscription-Key': api_key\n",
    "}\n",
    "\n",
    "response = requests.get(endpoint, headers=headers)\n",
    "data = response.json()\n",
    "\n",
    "with open('./football/data/2024/PlayerSeasonStats.json', 'w+') as f:\n",
    "    json.dump(data, f)"
   ]
  },
  {
   "cell_type": "code",
   "execution_count": null,
   "id": "38376fd5",
   "metadata": {},
   "outputs": [],
   "source": [
    "pd.read_json('./football/data/2024/PlayerSeasonStats.json')"
   ]
  }
 ],
 "metadata": {
  "kernelspec": {
   "display_name": "Python 3",
   "language": "python",
   "name": "python3"
  },
  "language_info": {
   "codemirror_mode": {
    "name": "ipython"
   },
   "file_extension": ".py",
   "mimetype": "text/x-python",
   "name": "python",
   "nbconvert_exporter": "python",
   "pygments_lexer": "ipython3"
  }
 },
 "nbformat": 4,
 "nbformat_minor": 5
}
